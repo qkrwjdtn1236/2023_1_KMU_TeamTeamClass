{
 "cells": [
  {
   "cell_type": "code",
   "execution_count": 163,
   "metadata": {},
   "outputs": [],
   "source": [
    "import numpy as np\n",
    "import pandas as pd\n",
    "import data_als\n",
    "import data_prepro"
   ]
  },
  {
   "cell_type": "code",
   "execution_count": 164,
   "metadata": {},
   "outputs": [],
   "source": [
    "train,test = data_prepro.loadData('datasets/data_tr_city.csv','datasets/data_ts_city.csv')"
   ]
  },
  {
   "cell_type": "code",
   "execution_count": 165,
   "metadata": {},
   "outputs": [],
   "source": [
    "train = data_prepro.outlierDataToNan(train)\n",
    "test = data_prepro.outlierDataToNan(test)"
   ]
  },
  {
   "cell_type": "code",
   "execution_count": 166,
   "metadata": {},
   "outputs": [
    {
     "name": "stdout",
     "output_type": "stream",
     "text": [
      "Int64Index([ 1748,  1982,  2127,  3468,  3485,  3491,  3513,  3533,  3542,\n",
      "             3554,  3593,  3607, 10208, 11995, 12519, 12716, 12717, 13187,\n",
      "            13234, 17558, 26078, 26079, 27253, 27254],\n",
      "           dtype='int64')\n",
      "datetime               0\n",
      "구미 혁신도시배수지 유출유량 적산차    0\n",
      "year                   0\n",
      "month                  0\n",
      "dtype: int64\n",
      "Int64Index([1502], dtype='int64')\n",
      "datetime               0\n",
      "구미 혁신도시배수지 유출유량 적산차    0\n",
      "year                   0\n",
      "month                  0\n",
      "dtype: int64\n"
     ]
    }
   ],
   "source": [
    "train = data_prepro.fillnaBehind(train)\n",
    "test = data_prepro.fillnaBehind(test)"
   ]
  },
  {
   "cell_type": "code",
   "execution_count": 167,
   "metadata": {},
   "outputs": [],
   "source": [
    "df = train"
   ]
  },
  {
   "cell_type": "code",
   "execution_count": 168,
   "metadata": {},
   "outputs": [
    {
     "data": {
      "text/plain": [
       "array([138., 237., 128., ..., 335., 141., 112.])"
      ]
     },
     "execution_count": 168,
     "metadata": {},
     "output_type": "execute_result"
    }
   ],
   "source": [
    "df['구미 혁신도시배수지 유출유량 적산차'].to_numpy()"
   ]
  },
  {
   "cell_type": "code",
   "execution_count": 169,
   "metadata": {},
   "outputs": [],
   "source": [
    "X,Y = data_prepro.XDataToXAndYSeq(df)"
   ]
  },
  {
   "cell_type": "code",
   "execution_count": 170,
   "metadata": {},
   "outputs": [],
   "source": [
    "X_test,Y_test = data_prepro.XDataToXAndYSeq(test)"
   ]
  },
  {
   "cell_type": "code",
   "execution_count": 171,
   "metadata": {},
   "outputs": [
    {
     "data": {
      "text/plain": [
       "(35038, 1)"
      ]
     },
     "execution_count": 171,
     "metadata": {},
     "output_type": "execute_result"
    }
   ],
   "source": [
    "Y.shape"
   ]
  },
  {
   "cell_type": "code",
   "execution_count": 172,
   "metadata": {},
   "outputs": [
    {
     "data": {
      "text/plain": [
       "array([[113.],\n",
       "       [ 51.],\n",
       "       [ 10.],\n",
       "       ...,\n",
       "       [335.],\n",
       "       [141.],\n",
       "       [112.]])"
      ]
     },
     "execution_count": 172,
     "metadata": {},
     "output_type": "execute_result"
    }
   ],
   "source": [
    "Y"
   ]
  },
  {
   "cell_type": "code",
   "execution_count": 173,
   "metadata": {},
   "outputs": [
    {
     "data": {
      "text/plain": [
       "(35038, 24)"
      ]
     },
     "execution_count": 173,
     "metadata": {},
     "output_type": "execute_result"
    }
   ],
   "source": [
    "X.shape"
   ]
  },
  {
   "cell_type": "code",
   "execution_count": 174,
   "metadata": {},
   "outputs": [
    {
     "data": {
      "text/plain": [
       "array([[138., 237., 128., ..., 152., 197., 175.],\n",
       "       [237., 128.,  14., ..., 197., 175., 266.],\n",
       "       [128.,  14.,  11., ..., 175., 266., 113.],\n",
       "       ...,\n",
       "       [305., 362., 207., ..., 473., 305., 328.],\n",
       "       [362., 207., 133., ..., 305., 328., 347.],\n",
       "       [207., 133., 153., ..., 328., 347., 335.]])"
      ]
     },
     "execution_count": 174,
     "metadata": {},
     "output_type": "execute_result"
    }
   ],
   "source": [
    "X"
   ]
  },
  {
   "cell_type": "code",
   "execution_count": 175,
   "metadata": {},
   "outputs": [],
   "source": [
    "X = X.reshape((-1,24,1))"
   ]
  },
  {
   "cell_type": "code",
   "execution_count": 176,
   "metadata": {},
   "outputs": [],
   "source": [
    "from tensorflow import keras"
   ]
  },
  {
   "cell_type": "code",
   "execution_count": 177,
   "metadata": {},
   "outputs": [
    {
     "ename": "TypeError",
     "evalue": "Could not interpret activation function identifier: [[[138.]\n  [237.]\n  [128.]\n  ...\n  [152.]\n  [197.]\n  [175.]]\n\n [[237.]\n  [128.]\n  [ 14.]\n  ...\n  [197.]\n  [175.]\n  [266.]]\n\n [[128.]\n  [ 14.]\n  [ 11.]\n  ...\n  [175.]\n  [266.]\n  [113.]]\n\n ...\n\n [[305.]\n  [362.]\n  [207.]\n  ...\n  [473.]\n  [305.]\n  [328.]]\n\n [[362.]\n  [207.]\n  [133.]\n  ...\n  [305.]\n  [328.]\n  [347.]]\n\n [[207.]\n  [133.]\n  [153.]\n  ...\n  [328.]\n  [347.]\n  [335.]]]",
     "output_type": "error",
     "traceback": [
      "\u001b[1;31m---------------------------------------------------------------------------\u001b[0m",
      "\u001b[1;31mTypeError\u001b[0m                                 Traceback (most recent call last)",
      "\u001b[1;32mc:\\Users\\ADMIN\\Documents\\vsc\\2023_1_KMU_TeamTeamClass\\datatoseq.ipynb Cell 15\u001b[0m in \u001b[0;36m3\n\u001b[0;32m      <a href='vscode-notebook-cell:/c%3A/Users/ADMIN/Documents/vsc/2023_1_KMU_TeamTeamClass/datatoseq.ipynb#X15sZmlsZQ%3D%3D?line=0'>1</a>\u001b[0m model \u001b[39m=\u001b[39m keras\u001b[39m.\u001b[39mSequential()\n\u001b[1;32m----> <a href='vscode-notebook-cell:/c%3A/Users/ADMIN/Documents/vsc/2023_1_KMU_TeamTeamClass/datatoseq.ipynb#X15sZmlsZQ%3D%3D?line=2'>3</a>\u001b[0m model\u001b[39m.\u001b[39madd(keras\u001b[39m.\u001b[39;49mlayers\u001b[39m.\u001b[39;49mGRU(\u001b[39m256\u001b[39;49m,X,input_shape\u001b[39m=\u001b[39;49m(\u001b[39m24\u001b[39;49m,\u001b[39m1\u001b[39;49m),return_sequences\u001b[39m=\u001b[39;49m\u001b[39mTrue\u001b[39;49;00m))\n\u001b[0;32m      <a href='vscode-notebook-cell:/c%3A/Users/ADMIN/Documents/vsc/2023_1_KMU_TeamTeamClass/datatoseq.ipynb#X15sZmlsZQ%3D%3D?line=3'>4</a>\u001b[0m model\u001b[39m.\u001b[39madd(keras\u001b[39m.\u001b[39mlayers\u001b[39m.\u001b[39mGRU(\u001b[39m256\u001b[39m,return_sequences\u001b[39m=\u001b[39m\u001b[39mTrue\u001b[39;00m))\n\u001b[0;32m      <a href='vscode-notebook-cell:/c%3A/Users/ADMIN/Documents/vsc/2023_1_KMU_TeamTeamClass/datatoseq.ipynb#X15sZmlsZQ%3D%3D?line=4'>5</a>\u001b[0m model\u001b[39m.\u001b[39madd(keras\u001b[39m.\u001b[39mlayers\u001b[39m.\u001b[39mGRU(\u001b[39m256\u001b[39m,return_sequences\u001b[39m=\u001b[39m\u001b[39mTrue\u001b[39;00m))\n",
      "File \u001b[1;32mc:\\Users\\ADMIN\\AppData\\Local\\Programs\\Python\\Python310\\lib\\site-packages\\keras\\layers\\rnn\\gru.py:566\u001b[0m, in \u001b[0;36mGRU.__init__\u001b[1;34m(self, units, activation, recurrent_activation, use_bias, kernel_initializer, recurrent_initializer, bias_initializer, kernel_regularizer, recurrent_regularizer, bias_regularizer, activity_regularizer, kernel_constraint, recurrent_constraint, bias_constraint, dropout, recurrent_dropout, return_sequences, return_state, go_backwards, stateful, unroll, time_major, reset_after, **kwargs)\u001b[0m\n\u001b[0;32m    564\u001b[0m \u001b[39melse\u001b[39;00m:\n\u001b[0;32m    565\u001b[0m     cell_kwargs \u001b[39m=\u001b[39m {}\n\u001b[1;32m--> 566\u001b[0m cell \u001b[39m=\u001b[39m GRUCell(\n\u001b[0;32m    567\u001b[0m     units,\n\u001b[0;32m    568\u001b[0m     activation\u001b[39m=\u001b[39mactivation,\n\u001b[0;32m    569\u001b[0m     recurrent_activation\u001b[39m=\u001b[39mrecurrent_activation,\n\u001b[0;32m    570\u001b[0m     use_bias\u001b[39m=\u001b[39muse_bias,\n\u001b[0;32m    571\u001b[0m     kernel_initializer\u001b[39m=\u001b[39mkernel_initializer,\n\u001b[0;32m    572\u001b[0m     recurrent_initializer\u001b[39m=\u001b[39mrecurrent_initializer,\n\u001b[0;32m    573\u001b[0m     bias_initializer\u001b[39m=\u001b[39mbias_initializer,\n\u001b[0;32m    574\u001b[0m     kernel_regularizer\u001b[39m=\u001b[39mkernel_regularizer,\n\u001b[0;32m    575\u001b[0m     recurrent_regularizer\u001b[39m=\u001b[39mrecurrent_regularizer,\n\u001b[0;32m    576\u001b[0m     bias_regularizer\u001b[39m=\u001b[39mbias_regularizer,\n\u001b[0;32m    577\u001b[0m     kernel_constraint\u001b[39m=\u001b[39mkernel_constraint,\n\u001b[0;32m    578\u001b[0m     recurrent_constraint\u001b[39m=\u001b[39mrecurrent_constraint,\n\u001b[0;32m    579\u001b[0m     bias_constraint\u001b[39m=\u001b[39mbias_constraint,\n\u001b[0;32m    580\u001b[0m     dropout\u001b[39m=\u001b[39mdropout,\n\u001b[0;32m    581\u001b[0m     recurrent_dropout\u001b[39m=\u001b[39mrecurrent_dropout,\n\u001b[0;32m    582\u001b[0m     implementation\u001b[39m=\u001b[39mimplementation,\n\u001b[0;32m    583\u001b[0m     reset_after\u001b[39m=\u001b[39mreset_after,\n\u001b[0;32m    584\u001b[0m     dtype\u001b[39m=\u001b[39mkwargs\u001b[39m.\u001b[39mget(\u001b[39m\"\u001b[39m\u001b[39mdtype\u001b[39m\u001b[39m\"\u001b[39m),\n\u001b[0;32m    585\u001b[0m     trainable\u001b[39m=\u001b[39mkwargs\u001b[39m.\u001b[39mget(\u001b[39m\"\u001b[39m\u001b[39mtrainable\u001b[39m\u001b[39m\"\u001b[39m, \u001b[39mTrue\u001b[39;00m),\n\u001b[0;32m    586\u001b[0m     \u001b[39m*\u001b[39m\u001b[39m*\u001b[39mcell_kwargs,\n\u001b[0;32m    587\u001b[0m )\n\u001b[0;32m    588\u001b[0m \u001b[39msuper\u001b[39m()\u001b[39m.\u001b[39m\u001b[39m__init__\u001b[39m(\n\u001b[0;32m    589\u001b[0m     cell,\n\u001b[0;32m    590\u001b[0m     return_sequences\u001b[39m=\u001b[39mreturn_sequences,\n\u001b[1;32m   (...)\u001b[0m\n\u001b[0;32m    596\u001b[0m     \u001b[39m*\u001b[39m\u001b[39m*\u001b[39mkwargs,\n\u001b[0;32m    597\u001b[0m )\n\u001b[0;32m    598\u001b[0m \u001b[39mself\u001b[39m\u001b[39m.\u001b[39mactivity_regularizer \u001b[39m=\u001b[39m regularizers\u001b[39m.\u001b[39mget(activity_regularizer)\n",
      "File \u001b[1;32mc:\\Users\\ADMIN\\AppData\\Local\\Programs\\Python\\Python310\\lib\\site-packages\\keras\\layers\\rnn\\gru.py:154\u001b[0m, in \u001b[0;36mGRUCell.__init__\u001b[1;34m(self, units, activation, recurrent_activation, use_bias, kernel_initializer, recurrent_initializer, bias_initializer, kernel_regularizer, recurrent_regularizer, bias_regularizer, kernel_constraint, recurrent_constraint, bias_constraint, dropout, recurrent_dropout, reset_after, **kwargs)\u001b[0m\n\u001b[0;32m    152\u001b[0m \u001b[39msuper\u001b[39m()\u001b[39m.\u001b[39m\u001b[39m__init__\u001b[39m(\u001b[39m*\u001b[39m\u001b[39m*\u001b[39mkwargs)\n\u001b[0;32m    153\u001b[0m \u001b[39mself\u001b[39m\u001b[39m.\u001b[39munits \u001b[39m=\u001b[39m units\n\u001b[1;32m--> 154\u001b[0m \u001b[39mself\u001b[39m\u001b[39m.\u001b[39mactivation \u001b[39m=\u001b[39m activations\u001b[39m.\u001b[39;49mget(activation)\n\u001b[0;32m    155\u001b[0m \u001b[39mself\u001b[39m\u001b[39m.\u001b[39mrecurrent_activation \u001b[39m=\u001b[39m activations\u001b[39m.\u001b[39mget(recurrent_activation)\n\u001b[0;32m    156\u001b[0m \u001b[39mself\u001b[39m\u001b[39m.\u001b[39muse_bias \u001b[39m=\u001b[39m use_bias\n",
      "File \u001b[1;32mc:\\Users\\ADMIN\\AppData\\Local\\Programs\\Python\\Python310\\lib\\site-packages\\tensorflow\\python\\util\\traceback_utils.py:153\u001b[0m, in \u001b[0;36mfilter_traceback.<locals>.error_handler\u001b[1;34m(*args, **kwargs)\u001b[0m\n\u001b[0;32m    151\u001b[0m \u001b[39mexcept\u001b[39;00m \u001b[39mException\u001b[39;00m \u001b[39mas\u001b[39;00m e:\n\u001b[0;32m    152\u001b[0m   filtered_tb \u001b[39m=\u001b[39m _process_traceback_frames(e\u001b[39m.\u001b[39m__traceback__)\n\u001b[1;32m--> 153\u001b[0m   \u001b[39mraise\u001b[39;00m e\u001b[39m.\u001b[39mwith_traceback(filtered_tb) \u001b[39mfrom\u001b[39;00m \u001b[39mNone\u001b[39m\n\u001b[0;32m    154\u001b[0m \u001b[39mfinally\u001b[39;00m:\n\u001b[0;32m    155\u001b[0m   \u001b[39mdel\u001b[39;00m filtered_tb\n",
      "File \u001b[1;32mc:\\Users\\ADMIN\\AppData\\Local\\Programs\\Python\\Python310\\lib\\site-packages\\keras\\activations.py:613\u001b[0m, in \u001b[0;36mget\u001b[1;34m(identifier)\u001b[0m\n\u001b[0;32m    611\u001b[0m     \u001b[39mreturn\u001b[39;00m identifier\n\u001b[0;32m    612\u001b[0m \u001b[39melse\u001b[39;00m:\n\u001b[1;32m--> 613\u001b[0m     \u001b[39mraise\u001b[39;00m \u001b[39mTypeError\u001b[39;00m(\n\u001b[0;32m    614\u001b[0m         \u001b[39mf\u001b[39m\u001b[39m\"\u001b[39m\u001b[39mCould not interpret activation function identifier: \u001b[39m\u001b[39m{\u001b[39;00midentifier\u001b[39m}\u001b[39;00m\u001b[39m\"\u001b[39m\n\u001b[0;32m    615\u001b[0m     )\n",
      "\u001b[1;31mTypeError\u001b[0m: Could not interpret activation function identifier: [[[138.]\n  [237.]\n  [128.]\n  ...\n  [152.]\n  [197.]\n  [175.]]\n\n [[237.]\n  [128.]\n  [ 14.]\n  ...\n  [197.]\n  [175.]\n  [266.]]\n\n [[128.]\n  [ 14.]\n  [ 11.]\n  ...\n  [175.]\n  [266.]\n  [113.]]\n\n ...\n\n [[305.]\n  [362.]\n  [207.]\n  ...\n  [473.]\n  [305.]\n  [328.]]\n\n [[362.]\n  [207.]\n  [133.]\n  ...\n  [305.]\n  [328.]\n  [347.]]\n\n [[207.]\n  [133.]\n  [153.]\n  ...\n  [328.]\n  [347.]\n  [335.]]]"
     ]
    }
   ],
   "source": [
    "model = keras.Sequential()\n",
    "\n",
    "model.add(keras.layers.GRU(256,X,input_shape=(24,1),return_sequences=True))\n",
    "model.add(keras.layers.GRU(256,return_sequences=True))\n",
    "model.add(keras.layers.GRU(256,return_sequences=True))\n",
    "model.add(keras.layers.Dense(1024))\n",
    "model.add(keras.layers.Dropout(0.3))\n",
    "model.add(keras.layers.Dense(1))"
   ]
  },
  {
   "cell_type": "code",
   "execution_count": null,
   "metadata": {},
   "outputs": [],
   "source": []
  },
  {
   "cell_type": "code",
   "execution_count": null,
   "metadata": {},
   "outputs": [],
   "source": []
  }
 ],
 "metadata": {
  "kernelspec": {
   "display_name": "Python 3",
   "language": "python",
   "name": "python3"
  },
  "language_info": {
   "codemirror_mode": {
    "name": "ipython",
    "version": 3
   },
   "file_extension": ".py",
   "mimetype": "text/x-python",
   "name": "python",
   "nbconvert_exporter": "python",
   "pygments_lexer": "ipython3",
   "version": "3.10.10"
  },
  "orig_nbformat": 4
 },
 "nbformat": 4,
 "nbformat_minor": 2
}
