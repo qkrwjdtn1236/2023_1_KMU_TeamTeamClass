{
 "cells": [
  {
   "cell_type": "code",
   "execution_count": 1,
   "metadata": {},
   "outputs": [
    {
     "name": "stdout",
     "output_type": "stream",
     "text": [
      "2\n",
      "3\n",
      "6\n",
      "7\n",
      "10\n",
      "11\n",
      "12\n",
      "15\n",
      "16\n",
      "17\n",
      "21\n",
      "22\n",
      "30\n",
      "[[2, 3], [6, 7], [10, 11, 12], [15, 16, 17], [21, 22], [30]]\n"
     ]
    }
   ],
   "source": [
    "queue = [2,3, 6, 7, 10, 11, 12, 15, 16, 17, 21, 22, 30]\n",
    "\n",
    "\n",
    "\n",
    "packet = []\n",
    "\n",
    "tmp = []\n",
    "\n",
    "v = queue.pop(0)\n",
    "\n",
    "tmp.append(v)\n",
    "\n",
    "print(v)\n",
    "\n",
    "while(len(queue)>0):\n",
    "\n",
    "\tvv = queue.pop(0)\n",
    "\n",
    "\tprint(vv)\n",
    "\n",
    "\tif v+1 == vv:\n",
    "\n",
    "\t\ttmp.append(vv)\n",
    "\n",
    "\t\tv = vv\n",
    "\n",
    "\telse:\n",
    "\n",
    "\t\tpacket.append(tmp)\n",
    "\n",
    "\t\ttmp = []\n",
    "\n",
    "\t\ttmp.append(vv)\n",
    "\n",
    "\t\tv = vv\n",
    "\n",
    "\n",
    "\n",
    "packet.append(tmp)\n",
    "\n",
    "\n",
    "\n",
    "print(packet)\n",
    "\n"
   ]
  },
  {
   "cell_type": "code",
   "execution_count": null,
   "metadata": {},
   "outputs": [],
   "source": []
  }
 ],
 "metadata": {
  "kernelspec": {
   "display_name": "Python 3",
   "language": "python",
   "name": "python3"
  },
  "language_info": {
   "codemirror_mode": {
    "name": "ipython",
    "version": 3
   },
   "file_extension": ".py",
   "mimetype": "text/x-python",
   "name": "python",
   "nbconvert_exporter": "python",
   "pygments_lexer": "ipython3",
   "version": "3.11.3"
  },
  "orig_nbformat": 4
 },
 "nbformat": 4,
 "nbformat_minor": 2
}
