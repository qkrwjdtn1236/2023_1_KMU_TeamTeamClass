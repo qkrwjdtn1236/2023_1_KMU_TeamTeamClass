{
 "cells": [
  {
   "cell_type": "code",
   "execution_count": 41,
   "metadata": {},
   "outputs": [],
   "source": [
    "import numpy as np\n",
    "import pandas as pd\n",
    "import data_als\n",
    "import data_prepro"
   ]
  },
  {
   "cell_type": "code",
   "execution_count": 42,
   "metadata": {},
   "outputs": [],
   "source": [
    "train,test = data_prepro.loadData('datasets/data_tr_city.csv','datasets/data_ts_city.csv')"
   ]
  },
  {
   "cell_type": "code",
   "execution_count": 43,
   "metadata": {},
   "outputs": [
    {
     "data": {
      "text/html": [
       "<div>\n",
       "<style scoped>\n",
       "    .dataframe tbody tr th:only-of-type {\n",
       "        vertical-align: middle;\n",
       "    }\n",
       "\n",
       "    .dataframe tbody tr th {\n",
       "        vertical-align: top;\n",
       "    }\n",
       "\n",
       "    .dataframe thead th {\n",
       "        text-align: right;\n",
       "    }\n",
       "</style>\n",
       "<table border=\"1\" class=\"dataframe\">\n",
       "  <thead>\n",
       "    <tr style=\"text-align: right;\">\n",
       "      <th></th>\n",
       "      <th>구미 혁신도시배수지 유출유량 적산차</th>\n",
       "      <th>year</th>\n",
       "      <th>month</th>\n",
       "    </tr>\n",
       "  </thead>\n",
       "  <tbody>\n",
       "    <tr>\n",
       "      <th>count</th>\n",
       "      <td>3.505500e+04</td>\n",
       "      <td>35063.000000</td>\n",
       "      <td>35063.000000</td>\n",
       "    </tr>\n",
       "    <tr>\n",
       "      <th>mean</th>\n",
       "      <td>1.236927e+02</td>\n",
       "      <td>2018.501070</td>\n",
       "      <td>6.523087</td>\n",
       "    </tr>\n",
       "    <tr>\n",
       "      <th>std</th>\n",
       "      <td>4.342471e+04</td>\n",
       "      <td>1.118343</td>\n",
       "      <td>3.448675</td>\n",
       "    </tr>\n",
       "    <tr>\n",
       "      <th>min</th>\n",
       "      <td>-6.093821e+06</td>\n",
       "      <td>2017.000000</td>\n",
       "      <td>1.000000</td>\n",
       "    </tr>\n",
       "    <tr>\n",
       "      <th>25%</th>\n",
       "      <td>1.030000e+02</td>\n",
       "      <td>2018.000000</td>\n",
       "      <td>4.000000</td>\n",
       "    </tr>\n",
       "    <tr>\n",
       "      <th>50%</th>\n",
       "      <td>2.170000e+02</td>\n",
       "      <td>2019.000000</td>\n",
       "      <td>7.000000</td>\n",
       "    </tr>\n",
       "    <tr>\n",
       "      <th>75%</th>\n",
       "      <td>3.460000e+02</td>\n",
       "      <td>2020.000000</td>\n",
       "      <td>10.000000</td>\n",
       "    </tr>\n",
       "    <tr>\n",
       "      <th>max</th>\n",
       "      <td>4.720655e+06</td>\n",
       "      <td>2020.000000</td>\n",
       "      <td>12.000000</td>\n",
       "    </tr>\n",
       "  </tbody>\n",
       "</table>\n",
       "</div>"
      ],
      "text/plain": [
       "       구미 혁신도시배수지 유출유량 적산차          year         month\n",
       "count         3.505500e+04  35063.000000  35063.000000\n",
       "mean          1.236927e+02   2018.501070      6.523087\n",
       "std           4.342471e+04      1.118343      3.448675\n",
       "min          -6.093821e+06   2017.000000      1.000000\n",
       "25%           1.030000e+02   2018.000000      4.000000\n",
       "50%           2.170000e+02   2019.000000      7.000000\n",
       "75%           3.460000e+02   2020.000000     10.000000\n",
       "max           4.720655e+06   2020.000000     12.000000"
      ]
     },
     "execution_count": 43,
     "metadata": {},
     "output_type": "execute_result"
    }
   ],
   "source": [
    "train.describe()"
   ]
  },
  {
   "cell_type": "code",
   "execution_count": 44,
   "metadata": {},
   "outputs": [
    {
     "data": {
      "text/html": [
       "<div>\n",
       "<style scoped>\n",
       "    .dataframe tbody tr th:only-of-type {\n",
       "        vertical-align: middle;\n",
       "    }\n",
       "\n",
       "    .dataframe tbody tr th {\n",
       "        vertical-align: top;\n",
       "    }\n",
       "\n",
       "    .dataframe thead th {\n",
       "        text-align: right;\n",
       "    }\n",
       "</style>\n",
       "<table border=\"1\" class=\"dataframe\">\n",
       "  <thead>\n",
       "    <tr style=\"text-align: right;\">\n",
       "      <th></th>\n",
       "      <th>구미 혁신도시배수지 유출유량 적산차</th>\n",
       "      <th>year</th>\n",
       "      <th>month</th>\n",
       "    </tr>\n",
       "  </thead>\n",
       "  <tbody>\n",
       "    <tr>\n",
       "      <th>count</th>\n",
       "      <td>8424.000000</td>\n",
       "      <td>8424.0</td>\n",
       "      <td>8424.000000</td>\n",
       "    </tr>\n",
       "    <tr>\n",
       "      <th>mean</th>\n",
       "      <td>260.544160</td>\n",
       "      <td>2021.0</td>\n",
       "      <td>6.307692</td>\n",
       "    </tr>\n",
       "    <tr>\n",
       "      <th>std</th>\n",
       "      <td>171.825882</td>\n",
       "      <td>0.0</td>\n",
       "      <td>3.334714</td>\n",
       "    </tr>\n",
       "    <tr>\n",
       "      <th>min</th>\n",
       "      <td>0.000000</td>\n",
       "      <td>2021.0</td>\n",
       "      <td>1.000000</td>\n",
       "    </tr>\n",
       "    <tr>\n",
       "      <th>25%</th>\n",
       "      <td>118.000000</td>\n",
       "      <td>2021.0</td>\n",
       "      <td>3.000000</td>\n",
       "    </tr>\n",
       "    <tr>\n",
       "      <th>50%</th>\n",
       "      <td>233.000000</td>\n",
       "      <td>2021.0</td>\n",
       "      <td>6.000000</td>\n",
       "    </tr>\n",
       "    <tr>\n",
       "      <th>75%</th>\n",
       "      <td>375.000000</td>\n",
       "      <td>2021.0</td>\n",
       "      <td>9.000000</td>\n",
       "    </tr>\n",
       "    <tr>\n",
       "      <th>max</th>\n",
       "      <td>1350.000000</td>\n",
       "      <td>2021.0</td>\n",
       "      <td>12.000000</td>\n",
       "    </tr>\n",
       "  </tbody>\n",
       "</table>\n",
       "</div>"
      ],
      "text/plain": [
       "       구미 혁신도시배수지 유출유량 적산차    year        month\n",
       "count          8424.000000  8424.0  8424.000000\n",
       "mean            260.544160  2021.0     6.307692\n",
       "std             171.825882     0.0     3.334714\n",
       "min               0.000000  2021.0     1.000000\n",
       "25%             118.000000  2021.0     3.000000\n",
       "50%             233.000000  2021.0     6.000000\n",
       "75%             375.000000  2021.0     9.000000\n",
       "max            1350.000000  2021.0    12.000000"
      ]
     },
     "execution_count": 44,
     "metadata": {},
     "output_type": "execute_result"
    }
   ],
   "source": [
    "test.describe()"
   ]
  },
  {
   "cell_type": "code",
   "execution_count": 45,
   "metadata": {},
   "outputs": [],
   "source": [
    "train = data_prepro.outlierDataToNan(train)\n",
    "test = data_prepro.outlierDataToNan(test)"
   ]
  },
  {
   "cell_type": "code",
   "execution_count": 46,
   "metadata": {},
   "outputs": [
    {
     "name": "stdout",
     "output_type": "stream",
     "text": [
      "<class 'pandas.core.frame.DataFrame'>\n",
      "RangeIndex: 35063 entries, 0 to 35062\n",
      "Data columns (total 4 columns):\n",
      " #   Column               Non-Null Count  Dtype         \n",
      "---  ------               --------------  -----         \n",
      " 0   datetime             35047 non-null  datetime64[ns]\n",
      " 1   구미 혁신도시배수지 유출유량 적산차  35039 non-null  float64       \n",
      " 2   year                 35047 non-null  float64       \n",
      " 3   month                35047 non-null  float64       \n",
      "dtypes: datetime64[ns](1), float64(3)\n",
      "memory usage: 1.1 MB\n"
     ]
    }
   ],
   "source": [
    "train.info()"
   ]
  },
  {
   "cell_type": "code",
   "execution_count": 47,
   "metadata": {},
   "outputs": [
    {
     "name": "stdout",
     "output_type": "stream",
     "text": [
      "Int64Index([ 1748,  1982,  2127,  3468,  3485,  3491,  3513,  3533,  3542,\n",
      "             3554,  3593,  3607, 10208, 11995, 12519, 12716, 12717, 13187,\n",
      "            13234, 17558, 26078, 26079, 27253, 27254],\n",
      "           dtype='int64')\n",
      "datetime               0\n",
      "구미 혁신도시배수지 유출유량 적산차    0\n",
      "year                   0\n",
      "month                  0\n",
      "dtype: int64\n"
     ]
    }
   ],
   "source": [
    "train = data_prepro.fillnaBehind(train)"
   ]
  },
  {
   "cell_type": "code",
   "execution_count": 48,
   "metadata": {},
   "outputs": [
    {
     "name": "stdout",
     "output_type": "stream",
     "text": [
      "Int64Index([1502], dtype='int64')\n",
      "datetime               0\n",
      "구미 혁신도시배수지 유출유량 적산차    0\n",
      "year                   0\n",
      "month                  0\n",
      "dtype: int64\n"
     ]
    }
   ],
   "source": [
    "test = data_prepro.fillnaBehind(test)"
   ]
  },
  {
   "cell_type": "code",
   "execution_count": 49,
   "metadata": {},
   "outputs": [],
   "source": [
    "df = train"
   ]
  },
  {
   "cell_type": "code",
   "execution_count": 50,
   "metadata": {},
   "outputs": [
    {
     "name": "stdout",
     "output_type": "stream",
     "text": [
      "2017 년\n",
      "2017년 평균 205.88132987783993\n",
      "1월 : 174.48183041722746\n",
      "2월 : 183.9047619047619\n",
      "3월 : 191.07311088709676\n",
      "4월 : 191.95718597222222\n",
      "5월 : 182.2688172043011\n",
      "6월 : 249.5263888888889\n",
      "7월 : 232.46639784946237\n",
      "8월 : 224.65860215053763\n",
      "9월 : 214.69722222222222\n",
      "10월 : 203.9247311827957\n",
      "11월 : 212.94722222222222\n",
      "12월 : 207.97177419354838\n",
      "\n",
      "2018 년\n",
      "2018년 평균 235.23627525114156\n",
      "1월 : 208.91666666666666\n",
      "2월 : 211.58051547619047\n",
      "3월 : 215.34139784946237\n",
      "4월 : 222.56666666666666\n",
      "5월 : 225.21477083333335\n",
      "6월 : 243.7486111111111\n",
      "7월 : 278.16129690860214\n",
      "8월 : 289.48924731182797\n",
      "9월 : 230.8736111111111\n",
      "10월 : 229.67741935483872\n",
      "11월 : 235.04843111111114\n",
      "12월 : 229.6465053763441\n",
      "\n",
      "2019 년\n",
      "2019년 평균 248.00303489726025\n",
      "1월 : 229.6747311827957\n",
      "2월 : 228.05295491071428\n",
      "3월 : 237.95430107526883\n",
      "4월 : 243.63472222222222\n",
      "5월 : 253.51478494623655\n",
      "6월 : 255.875\n",
      "7월 : 266.5255376344086\n",
      "8월 : 265.4986559139785\n",
      "9월 : 248.22916666666666\n",
      "10월 : 245.38844086021504\n",
      "11월 : 248.80833333333334\n",
      "12월 : 251.09543010752688\n",
      "\n",
      "2020 년\n",
      "2020년 평균 254.58975849271403\n",
      "1월 : 231.78687983870967\n",
      "2월 : 244.35919540229884\n",
      "3월 : 241.72177419354838\n",
      "4월 : 245.95138888888889\n",
      "5월 : 253.36290322580646\n",
      "6월 : 278.14722222222224\n",
      "7월 : 261.98118279569894\n",
      "8월 : 269.81317204301075\n",
      "9월 : 262.7611111111111\n",
      "10월 : 256.7903225806452\n",
      "11월 : 256.6875\n",
      "12월 : 251.86693548387098\n",
      "\n"
     ]
    }
   ],
   "source": [
    "years,monthHistory = data_als.dataMean(df,2017,2020)"
   ]
  },
  {
   "cell_type": "code",
   "execution_count": 51,
   "metadata": {},
   "outputs": [
    {
     "data": {
      "text/plain": [
       "[[174.48183041722746,\n",
       "  183.9047619047619,\n",
       "  191.07311088709676,\n",
       "  191.95718597222222,\n",
       "  182.2688172043011,\n",
       "  249.5263888888889,\n",
       "  232.46639784946237,\n",
       "  224.65860215053763,\n",
       "  214.69722222222222,\n",
       "  203.9247311827957,\n",
       "  212.94722222222222,\n",
       "  207.97177419354838],\n",
       " [208.91666666666666,\n",
       "  211.58051547619047,\n",
       "  215.34139784946237,\n",
       "  222.56666666666666,\n",
       "  225.21477083333335,\n",
       "  243.7486111111111,\n",
       "  278.16129690860214,\n",
       "  289.48924731182797,\n",
       "  230.8736111111111,\n",
       "  229.67741935483872,\n",
       "  235.04843111111114,\n",
       "  229.6465053763441],\n",
       " [229.6747311827957,\n",
       "  228.05295491071428,\n",
       "  237.95430107526883,\n",
       "  243.63472222222222,\n",
       "  253.51478494623655,\n",
       "  255.875,\n",
       "  266.5255376344086,\n",
       "  265.4986559139785,\n",
       "  248.22916666666666,\n",
       "  245.38844086021504,\n",
       "  248.80833333333334,\n",
       "  251.09543010752688],\n",
       " [231.78687983870967,\n",
       "  244.35919540229884,\n",
       "  241.72177419354838,\n",
       "  245.95138888888889,\n",
       "  253.36290322580646,\n",
       "  278.14722222222224,\n",
       "  261.98118279569894,\n",
       "  269.81317204301075,\n",
       "  262.7611111111111,\n",
       "  256.7903225806452,\n",
       "  256.6875,\n",
       "  251.86693548387098]]"
      ]
     },
     "execution_count": 51,
     "metadata": {},
     "output_type": "execute_result"
    }
   ],
   "source": [
    "monthHistory"
   ]
  },
  {
   "cell_type": "code",
   "execution_count": 52,
   "metadata": {},
   "outputs": [
    {
     "data": {
      "image/png": "[encoded data removed]",
      "text/plain": [
       "<Figure size 640x480 with 1 Axes>"
      ]
     },
     "metadata": {},
     "output_type": "display_data"
    }
   ],
   "source": [
    "data_als.showMonthHistoryGrap(years,monthHistory)"
   ]
  }
 ],
 "metadata": {
  "kernelspec": {
   "display_name": "Python 3",
   "language": "python",
   "name": "python3"
  },
  "language_info": {
   "codemirror_mode": {
    "name": "ipython",
    "version": 3
   },
   "file_extension": ".py",
   "mimetype": "text/x-python",
   "name": "python",
   "nbconvert_exporter": "python",
   "pygments_lexer": "ipython3",
   "version": "3.10.10"
  },
  "orig_nbformat": 4
 },
 "nbformat": 4,
 "nbformat_minor": 2
}
