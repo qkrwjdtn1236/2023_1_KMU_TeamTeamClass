{
 "cells": [
  {
   "cell_type": "code",
   "execution_count": 6,
   "metadata": {},
   "outputs": [],
   "source": [
    "import numpy as np\n",
    "import pandas as pd\n",
    "import data_als\n",
    "import data_prepro"
   ]
  },
  {
   "cell_type": "code",
   "execution_count": 7,
   "metadata": {},
   "outputs": [],
   "source": [
    "train,test = data_prepro.loadData('datasets/data_tr_city.csv','datasets/data_ts_city.csv')"
   ]
  },
  {
   "cell_type": "code",
   "execution_count": null,
   "metadata": {},
   "outputs": [],
   "source": []
  },
  {
   "cell_type": "code",
   "execution_count": 8,
   "metadata": {},
   "outputs": [
    {
     "data": {
      "text/html": [
       "<div>\n",
       "<style scoped>\n",
       "    .dataframe tbody tr th:only-of-type {\n",
       "        vertical-align: middle;\n",
       "    }\n",
       "\n",
       "    .dataframe tbody tr th {\n",
       "        vertical-align: top;\n",
       "    }\n",
       "\n",
       "    .dataframe thead th {\n",
       "        text-align: right;\n",
       "    }\n",
       "</style>\n",
       "<table border=\"1\" class=\"dataframe\">\n",
       "  <thead>\n",
       "    <tr style=\"text-align: right;\">\n",
       "      <th></th>\n",
       "      <th>구미 혁신도시배수지 유출유량 적산차</th>\n",
       "      <th>year</th>\n",
       "      <th>month</th>\n",
       "    </tr>\n",
       "  </thead>\n",
       "  <tbody>\n",
       "    <tr>\n",
       "      <th>count</th>\n",
       "      <td>3.505500e+04</td>\n",
       "      <td>35063.000000</td>\n",
       "      <td>35063.000000</td>\n",
       "    </tr>\n",
       "    <tr>\n",
       "      <th>mean</th>\n",
       "      <td>1.236927e+02</td>\n",
       "      <td>2018.501070</td>\n",
       "      <td>6.523087</td>\n",
       "    </tr>\n",
       "    <tr>\n",
       "      <th>std</th>\n",
       "      <td>4.342471e+04</td>\n",
       "      <td>1.118343</td>\n",
       "      <td>3.448675</td>\n",
       "    </tr>\n",
       "    <tr>\n",
       "      <th>min</th>\n",
       "      <td>-6.093821e+06</td>\n",
       "      <td>2017.000000</td>\n",
       "      <td>1.000000</td>\n",
       "    </tr>\n",
       "    <tr>\n",
       "      <th>25%</th>\n",
       "      <td>1.030000e+02</td>\n",
       "      <td>2018.000000</td>\n",
       "      <td>4.000000</td>\n",
       "    </tr>\n",
       "    <tr>\n",
       "      <th>50%</th>\n",
       "      <td>2.170000e+02</td>\n",
       "      <td>2019.000000</td>\n",
       "      <td>7.000000</td>\n",
       "    </tr>\n",
       "    <tr>\n",
       "      <th>75%</th>\n",
       "      <td>3.460000e+02</td>\n",
       "      <td>2020.000000</td>\n",
       "      <td>10.000000</td>\n",
       "    </tr>\n",
       "    <tr>\n",
       "      <th>max</th>\n",
       "      <td>4.720655e+06</td>\n",
       "      <td>2020.000000</td>\n",
       "      <td>12.000000</td>\n",
       "    </tr>\n",
       "  </tbody>\n",
       "</table>\n",
       "</div>"
      ],
      "text/plain": [
       "       구미 혁신도시배수지 유출유량 적산차          year         month\n",
       "count         3.505500e+04  35063.000000  35063.000000\n",
       "mean          1.236927e+02   2018.501070      6.523087\n",
       "std           4.342471e+04      1.118343      3.448675\n",
       "min          -6.093821e+06   2017.000000      1.000000\n",
       "25%           1.030000e+02   2018.000000      4.000000\n",
       "50%           2.170000e+02   2019.000000      7.000000\n",
       "75%           3.460000e+02   2020.000000     10.000000\n",
       "max           4.720655e+06   2020.000000     12.000000"
      ]
     },
     "execution_count": 8,
     "metadata": {},
     "output_type": "execute_result"
    }
   ],
   "source": [
    "train.describe()"
   ]
  },
  {
   "cell_type": "code",
   "execution_count": 9,
   "metadata": {},
   "outputs": [
    {
     "data": {
      "text/html": [
       "<div>\n",
       "<style scoped>\n",
       "    .dataframe tbody tr th:only-of-type {\n",
       "        vertical-align: middle;\n",
       "    }\n",
       "\n",
       "    .dataframe tbody tr th {\n",
       "        vertical-align: top;\n",
       "    }\n",
       "\n",
       "    .dataframe thead th {\n",
       "        text-align: right;\n",
       "    }\n",
       "</style>\n",
       "<table border=\"1\" class=\"dataframe\">\n",
       "  <thead>\n",
       "    <tr style=\"text-align: right;\">\n",
       "      <th></th>\n",
       "      <th>구미 혁신도시배수지 유출유량 적산차</th>\n",
       "      <th>year</th>\n",
       "      <th>month</th>\n",
       "    </tr>\n",
       "  </thead>\n",
       "  <tbody>\n",
       "    <tr>\n",
       "      <th>count</th>\n",
       "      <td>8424.000000</td>\n",
       "      <td>8424.0</td>\n",
       "      <td>8424.000000</td>\n",
       "    </tr>\n",
       "    <tr>\n",
       "      <th>mean</th>\n",
       "      <td>260.544160</td>\n",
       "      <td>2021.0</td>\n",
       "      <td>6.307692</td>\n",
       "    </tr>\n",
       "    <tr>\n",
       "      <th>std</th>\n",
       "      <td>171.825882</td>\n",
       "      <td>0.0</td>\n",
       "      <td>3.334714</td>\n",
       "    </tr>\n",
       "    <tr>\n",
       "      <th>min</th>\n",
       "      <td>0.000000</td>\n",
       "      <td>2021.0</td>\n",
       "      <td>1.000000</td>\n",
       "    </tr>\n",
       "    <tr>\n",
       "      <th>25%</th>\n",
       "      <td>118.000000</td>\n",
       "      <td>2021.0</td>\n",
       "      <td>3.000000</td>\n",
       "    </tr>\n",
       "    <tr>\n",
       "      <th>50%</th>\n",
       "      <td>233.000000</td>\n",
       "      <td>2021.0</td>\n",
       "      <td>6.000000</td>\n",
       "    </tr>\n",
       "    <tr>\n",
       "      <th>75%</th>\n",
       "      <td>375.000000</td>\n",
       "      <td>2021.0</td>\n",
       "      <td>9.000000</td>\n",
       "    </tr>\n",
       "    <tr>\n",
       "      <th>max</th>\n",
       "      <td>1350.000000</td>\n",
       "      <td>2021.0</td>\n",
       "      <td>12.000000</td>\n",
       "    </tr>\n",
       "  </tbody>\n",
       "</table>\n",
       "</div>"
      ],
      "text/plain": [
       "       구미 혁신도시배수지 유출유량 적산차    year        month\n",
       "count          8424.000000  8424.0  8424.000000\n",
       "mean            260.544160  2021.0     6.307692\n",
       "std             171.825882     0.0     3.334714\n",
       "min               0.000000  2021.0     1.000000\n",
       "25%             118.000000  2021.0     3.000000\n",
       "50%             233.000000  2021.0     6.000000\n",
       "75%             375.000000  2021.0     9.000000\n",
       "max            1350.000000  2021.0    12.000000"
      ]
     },
     "execution_count": 9,
     "metadata": {},
     "output_type": "execute_result"
    }
   ],
   "source": [
    "test.describe()"
   ]
  },
  {
   "cell_type": "code",
   "execution_count": 10,
   "metadata": {},
   "outputs": [],
   "source": [
    "train = data_prepro.outlierDataToNan(train,low=True)\n",
    "test = data_prepro.outlierDataToNan(test,low = True)"
   ]
  },
  {
   "cell_type": "code",
   "execution_count": 11,
   "metadata": {},
   "outputs": [
    {
     "data": {
      "text/html": [
       "<div>\n",
       "<style scoped>\n",
       "    .dataframe tbody tr th:only-of-type {\n",
       "        vertical-align: middle;\n",
       "    }\n",
       "\n",
       "    .dataframe tbody tr th {\n",
       "        vertical-align: top;\n",
       "    }\n",
       "\n",
       "    .dataframe thead th {\n",
       "        text-align: right;\n",
       "    }\n",
       "</style>\n",
       "<table border=\"1\" class=\"dataframe\">\n",
       "  <thead>\n",
       "    <tr style=\"text-align: right;\">\n",
       "      <th></th>\n",
       "      <th>구미 혁신도시배수지 유출유량 적산차</th>\n",
       "      <th>year</th>\n",
       "      <th>month</th>\n",
       "    </tr>\n",
       "  </thead>\n",
       "  <tbody>\n",
       "    <tr>\n",
       "      <th>count</th>\n",
       "      <td>3.505500e+04</td>\n",
       "      <td>35063.000000</td>\n",
       "      <td>35063.000000</td>\n",
       "    </tr>\n",
       "    <tr>\n",
       "      <th>mean</th>\n",
       "      <td>3.712571e+02</td>\n",
       "      <td>2010.274392</td>\n",
       "      <td>6.503323</td>\n",
       "    </tr>\n",
       "    <tr>\n",
       "      <th>std</th>\n",
       "      <td>2.521244e+04</td>\n",
       "      <td>128.649688</td>\n",
       "      <td>3.471485</td>\n",
       "    </tr>\n",
       "    <tr>\n",
       "      <th>min</th>\n",
       "      <td>0.000000e+00</td>\n",
       "      <td>0.000000</td>\n",
       "      <td>0.000000</td>\n",
       "    </tr>\n",
       "    <tr>\n",
       "      <th>25%</th>\n",
       "      <td>1.030000e+02</td>\n",
       "      <td>2017.000000</td>\n",
       "      <td>3.000000</td>\n",
       "    </tr>\n",
       "    <tr>\n",
       "      <th>50%</th>\n",
       "      <td>2.170000e+02</td>\n",
       "      <td>2019.000000</td>\n",
       "      <td>7.000000</td>\n",
       "    </tr>\n",
       "    <tr>\n",
       "      <th>75%</th>\n",
       "      <td>3.460000e+02</td>\n",
       "      <td>2020.000000</td>\n",
       "      <td>10.000000</td>\n",
       "    </tr>\n",
       "    <tr>\n",
       "      <th>max</th>\n",
       "      <td>4.720655e+06</td>\n",
       "      <td>2020.000000</td>\n",
       "      <td>12.000000</td>\n",
       "    </tr>\n",
       "  </tbody>\n",
       "</table>\n",
       "</div>"
      ],
      "text/plain": [
       "       구미 혁신도시배수지 유출유량 적산차          year         month\n",
       "count         3.505500e+04  35063.000000  35063.000000\n",
       "mean          3.712571e+02   2010.274392      6.503323\n",
       "std           2.521244e+04    128.649688      3.471485\n",
       "min           0.000000e+00      0.000000      0.000000\n",
       "25%           1.030000e+02   2017.000000      3.000000\n",
       "50%           2.170000e+02   2019.000000      7.000000\n",
       "75%           3.460000e+02   2020.000000     10.000000\n",
       "max           4.720655e+06   2020.000000     12.000000"
      ]
     },
     "execution_count": 11,
     "metadata": {},
     "output_type": "execute_result"
    }
   ],
   "source": [
    "train.describe()"
   ]
  },
  {
   "cell_type": "code",
   "execution_count": 12,
   "metadata": {},
   "outputs": [
    {
     "data": {
      "text/html": [
       "<div>\n",
       "<style scoped>\n",
       "    .dataframe tbody tr th:only-of-type {\n",
       "        vertical-align: middle;\n",
       "    }\n",
       "\n",
       "    .dataframe tbody tr th {\n",
       "        vertical-align: top;\n",
       "    }\n",
       "\n",
       "    .dataframe thead th {\n",
       "        text-align: right;\n",
       "    }\n",
       "</style>\n",
       "<table border=\"1\" class=\"dataframe\">\n",
       "  <thead>\n",
       "    <tr style=\"text-align: right;\">\n",
       "      <th></th>\n",
       "      <th>구미 혁신도시배수지 유출유량 적산차</th>\n",
       "      <th>year</th>\n",
       "      <th>month</th>\n",
       "    </tr>\n",
       "  </thead>\n",
       "  <tbody>\n",
       "    <tr>\n",
       "      <th>count</th>\n",
       "      <td>8424.000000</td>\n",
       "      <td>8424.000000</td>\n",
       "      <td>8424.000000</td>\n",
       "    </tr>\n",
       "    <tr>\n",
       "      <th>mean</th>\n",
       "      <td>260.544160</td>\n",
       "      <td>2020.760090</td>\n",
       "      <td>6.307336</td>\n",
       "    </tr>\n",
       "    <tr>\n",
       "      <th>std</th>\n",
       "      <td>171.825882</td>\n",
       "      <td>22.019484</td>\n",
       "      <td>3.335228</td>\n",
       "    </tr>\n",
       "    <tr>\n",
       "      <th>min</th>\n",
       "      <td>0.000000</td>\n",
       "      <td>0.000000</td>\n",
       "      <td>0.000000</td>\n",
       "    </tr>\n",
       "    <tr>\n",
       "      <th>25%</th>\n",
       "      <td>118.000000</td>\n",
       "      <td>2021.000000</td>\n",
       "      <td>3.000000</td>\n",
       "    </tr>\n",
       "    <tr>\n",
       "      <th>50%</th>\n",
       "      <td>233.000000</td>\n",
       "      <td>2021.000000</td>\n",
       "      <td>6.000000</td>\n",
       "    </tr>\n",
       "    <tr>\n",
       "      <th>75%</th>\n",
       "      <td>375.000000</td>\n",
       "      <td>2021.000000</td>\n",
       "      <td>9.000000</td>\n",
       "    </tr>\n",
       "    <tr>\n",
       "      <th>max</th>\n",
       "      <td>1350.000000</td>\n",
       "      <td>2021.000000</td>\n",
       "      <td>12.000000</td>\n",
       "    </tr>\n",
       "  </tbody>\n",
       "</table>\n",
       "</div>"
      ],
      "text/plain": [
       "       구미 혁신도시배수지 유출유량 적산차         year        month\n",
       "count          8424.000000  8424.000000  8424.000000\n",
       "mean            260.544160  2020.760090     6.307336\n",
       "std             171.825882    22.019484     3.335228\n",
       "min               0.000000     0.000000     0.000000\n",
       "25%             118.000000  2021.000000     3.000000\n",
       "50%             233.000000  2021.000000     6.000000\n",
       "75%             375.000000  2021.000000     9.000000\n",
       "max            1350.000000  2021.000000    12.000000"
      ]
     },
     "execution_count": 12,
     "metadata": {},
     "output_type": "execute_result"
    }
   ],
   "source": [
    "test.describe()"
   ]
  },
  {
   "cell_type": "code",
   "execution_count": 13,
   "metadata": {},
   "outputs": [
    {
     "name": "stdout",
     "output_type": "stream",
     "text": [
      "<class 'pandas.core.frame.DataFrame'>\n",
      "RangeIndex: 35063 entries, 0 to 35062\n",
      "Data columns (total 4 columns):\n",
      " #   Column               Non-Null Count  Dtype  \n",
      "---  ------               --------------  -----  \n",
      " 0   datetime             35063 non-null  object \n",
      " 1   구미 혁신도시배수지 유출유량 적산차  35055 non-null  float64\n",
      " 2   year                 35063 non-null  int64  \n",
      " 3   month                35063 non-null  int64  \n",
      "dtypes: float64(1), int64(2), object(1)\n",
      "memory usage: 1.1+ MB\n"
     ]
    }
   ],
   "source": [
    "train.info()"
   ]
  },
  {
   "cell_type": "code",
   "execution_count": 14,
   "metadata": {},
   "outputs": [
    {
     "name": "stdout",
     "output_type": "stream",
     "text": [
      "Int64Index([ 2080,  2127,  2845,  2847,  2848,  2849,  2850,  2851,  2852,\n",
      "             2853,\n",
      "            ...\n",
      "            12509, 12510, 12511, 12515, 12516, 12517, 12518, 17558, 21595,\n",
      "            25626],\n",
      "           dtype='int64', length=143)\n",
      "datetime               0\n",
      "구미 혁신도시배수지 유출유량 적산차    8\n",
      "year                   0\n",
      "month                  0\n",
      "dtype: int64\n"
     ]
    }
   ],
   "source": [
    "train = data_prepro.fillnaBehind(train)"
   ]
  },
  {
   "cell_type": "code",
   "execution_count": 15,
   "metadata": {},
   "outputs": [
    {
     "name": "stdout",
     "output_type": "stream",
     "text": [
      "Int64Index([1501], dtype='int64')\n",
      "datetime               0\n",
      "구미 혁신도시배수지 유출유량 적산차    0\n",
      "year                   0\n",
      "month                  0\n",
      "dtype: int64\n"
     ]
    }
   ],
   "source": [
    "test = data_prepro.fillnaBehind(test)"
   ]
  },
  {
   "cell_type": "code",
   "execution_count": 16,
   "metadata": {},
   "outputs": [
    {
     "name": "stdout",
     "output_type": "stream",
     "text": [
      "Int64Index([], dtype='int64')\n"
     ]
    }
   ],
   "source": [
    "train = data_prepro.fillZero(train)"
   ]
  },
  {
   "cell_type": "code",
   "execution_count": 17,
   "metadata": {},
   "outputs": [],
   "source": [
    "train = data_prepro.fillprevValue(train)"
   ]
  },
  {
   "cell_type": "code",
   "execution_count": 18,
   "metadata": {},
   "outputs": [
    {
     "name": "stdout",
     "output_type": "stream",
     "text": [
      "Int64Index([], dtype='int64')\n"
     ]
    }
   ],
   "source": [
    "print(train[train['구미 혁신도시배수지 유출유량 적산차']==0].index)"
   ]
  },
  {
   "cell_type": "code",
   "execution_count": 19,
   "metadata": {},
   "outputs": [
    {
     "name": "stdout",
     "output_type": "stream",
     "text": [
      "                 datetime  구미 혁신도시배수지 유출유량 적산차  year  month\n",
      "2125  2017-03-30 14:00:00              82.0000  2017      3\n",
      "2126  2017-03-30 15:00:00             172.0000  2017      3\n",
      "2127                    0             179.0000     0      0\n",
      "2128  2017-03-30 17:00:00             187.3945  2017      3\n",
      "2129  2017-03-30 18:00:00             384.0000  2017      3\n"
     ]
    }
   ],
   "source": [
    "print(train.loc[2125:2129])"
   ]
  },
  {
   "cell_type": "code",
   "execution_count": 20,
   "metadata": {},
   "outputs": [],
   "source": [
    "train = data_prepro.outlierDataToNan(train,high=True)"
   ]
  },
  {
   "cell_type": "code",
   "execution_count": null,
   "metadata": {},
   "outputs": [],
   "source": []
  },
  {
   "cell_type": "code",
   "execution_count": 21,
   "metadata": {},
   "outputs": [
    {
     "data": {
      "text/html": [
       "<div>\n",
       "<style scoped>\n",
       "    .dataframe tbody tr th:only-of-type {\n",
       "        vertical-align: middle;\n",
       "    }\n",
       "\n",
       "    .dataframe tbody tr th {\n",
       "        vertical-align: top;\n",
       "    }\n",
       "\n",
       "    .dataframe thead th {\n",
       "        text-align: right;\n",
       "    }\n",
       "</style>\n",
       "<table border=\"1\" class=\"dataframe\">\n",
       "  <thead>\n",
       "    <tr style=\"text-align: right;\">\n",
       "      <th></th>\n",
       "      <th>구미 혁신도시배수지 유출유량 적산차</th>\n",
       "      <th>year</th>\n",
       "      <th>month</th>\n",
       "    </tr>\n",
       "  </thead>\n",
       "  <tbody>\n",
       "    <tr>\n",
       "      <th>count</th>\n",
       "      <td>35063.000000</td>\n",
       "      <td>35063.000000</td>\n",
       "      <td>35063.000000</td>\n",
       "    </tr>\n",
       "    <tr>\n",
       "      <th>mean</th>\n",
       "      <td>237.851620</td>\n",
       "      <td>2010.611528</td>\n",
       "      <td>7.586173</td>\n",
       "    </tr>\n",
       "    <tr>\n",
       "      <th>std</th>\n",
       "      <td>160.937379</td>\n",
       "      <td>119.119841</td>\n",
       "      <td>22.367240</td>\n",
       "    </tr>\n",
       "    <tr>\n",
       "      <th>min</th>\n",
       "      <td>1.000000</td>\n",
       "      <td>0.000000</td>\n",
       "      <td>0.000000</td>\n",
       "    </tr>\n",
       "    <tr>\n",
       "      <th>25%</th>\n",
       "      <td>105.000000</td>\n",
       "      <td>2017.000000</td>\n",
       "      <td>4.000000</td>\n",
       "    </tr>\n",
       "    <tr>\n",
       "      <th>50%</th>\n",
       "      <td>219.000000</td>\n",
       "      <td>2019.000000</td>\n",
       "      <td>7.000000</td>\n",
       "    </tr>\n",
       "    <tr>\n",
       "      <th>75%</th>\n",
       "      <td>348.000000</td>\n",
       "      <td>2020.000000</td>\n",
       "      <td>10.000000</td>\n",
       "    </tr>\n",
       "    <tr>\n",
       "      <th>max</th>\n",
       "      <td>1077.000000</td>\n",
       "      <td>2020.000000</td>\n",
       "      <td>464.000000</td>\n",
       "    </tr>\n",
       "  </tbody>\n",
       "</table>\n",
       "</div>"
      ],
      "text/plain": [
       "       구미 혁신도시배수지 유출유량 적산차          year         month\n",
       "count         35063.000000  35063.000000  35063.000000\n",
       "mean            237.851620   2010.611528      7.586173\n",
       "std             160.937379    119.119841     22.367240\n",
       "min               1.000000      0.000000      0.000000\n",
       "25%             105.000000   2017.000000      4.000000\n",
       "50%             219.000000   2019.000000      7.000000\n",
       "75%             348.000000   2020.000000     10.000000\n",
       "max            1077.000000   2020.000000    464.000000"
      ]
     },
     "execution_count": 21,
     "metadata": {},
     "output_type": "execute_result"
    }
   ],
   "source": [
    "train.describe()"
   ]
  },
  {
   "cell_type": "code",
   "execution_count": 22,
   "metadata": {},
   "outputs": [
    {
     "data": {
      "text/html": [
       "<div>\n",
       "<style scoped>\n",
       "    .dataframe tbody tr th:only-of-type {\n",
       "        vertical-align: middle;\n",
       "    }\n",
       "\n",
       "    .dataframe tbody tr th {\n",
       "        vertical-align: top;\n",
       "    }\n",
       "\n",
       "    .dataframe thead th {\n",
       "        text-align: right;\n",
       "    }\n",
       "</style>\n",
       "<table border=\"1\" class=\"dataframe\">\n",
       "  <thead>\n",
       "    <tr style=\"text-align: right;\">\n",
       "      <th></th>\n",
       "      <th>구미 혁신도시배수지 유출유량 적산차</th>\n",
       "      <th>year</th>\n",
       "      <th>month</th>\n",
       "    </tr>\n",
       "  </thead>\n",
       "  <tbody>\n",
       "    <tr>\n",
       "      <th>count</th>\n",
       "      <td>8424.000000</td>\n",
       "      <td>8424.000000</td>\n",
       "      <td>8424.000000</td>\n",
       "    </tr>\n",
       "    <tr>\n",
       "      <th>mean</th>\n",
       "      <td>260.628799</td>\n",
       "      <td>2020.760090</td>\n",
       "      <td>6.307336</td>\n",
       "    </tr>\n",
       "    <tr>\n",
       "      <th>std</th>\n",
       "      <td>171.873127</td>\n",
       "      <td>22.019484</td>\n",
       "      <td>3.335228</td>\n",
       "    </tr>\n",
       "    <tr>\n",
       "      <th>min</th>\n",
       "      <td>15.000000</td>\n",
       "      <td>0.000000</td>\n",
       "      <td>0.000000</td>\n",
       "    </tr>\n",
       "    <tr>\n",
       "      <th>25%</th>\n",
       "      <td>118.000000</td>\n",
       "      <td>2021.000000</td>\n",
       "      <td>3.000000</td>\n",
       "    </tr>\n",
       "    <tr>\n",
       "      <th>50%</th>\n",
       "      <td>233.000000</td>\n",
       "      <td>2021.000000</td>\n",
       "      <td>6.000000</td>\n",
       "    </tr>\n",
       "    <tr>\n",
       "      <th>75%</th>\n",
       "      <td>375.000000</td>\n",
       "      <td>2021.000000</td>\n",
       "      <td>9.000000</td>\n",
       "    </tr>\n",
       "    <tr>\n",
       "      <th>max</th>\n",
       "      <td>1350.000000</td>\n",
       "      <td>2021.000000</td>\n",
       "      <td>12.000000</td>\n",
       "    </tr>\n",
       "  </tbody>\n",
       "</table>\n",
       "</div>"
      ],
      "text/plain": [
       "       구미 혁신도시배수지 유출유량 적산차         year        month\n",
       "count          8424.000000  8424.000000  8424.000000\n",
       "mean            260.628799  2020.760090     6.307336\n",
       "std             171.873127    22.019484     3.335228\n",
       "min              15.000000     0.000000     0.000000\n",
       "25%             118.000000  2021.000000     3.000000\n",
       "50%             233.000000  2021.000000     6.000000\n",
       "75%             375.000000  2021.000000     9.000000\n",
       "max            1350.000000  2021.000000    12.000000"
      ]
     },
     "execution_count": 22,
     "metadata": {},
     "output_type": "execute_result"
    }
   ],
   "source": [
    "test.describe()"
   ]
  },
  {
   "cell_type": "code",
   "execution_count": 23,
   "metadata": {},
   "outputs": [],
   "source": [
    "df = pd.concat([train,test])"
   ]
  },
  {
   "cell_type": "code",
   "execution_count": 24,
   "metadata": {},
   "outputs": [
    {
     "name": "stdout",
     "output_type": "stream",
     "text": [
      "2017 년\n",
      "2017년 평균 209.04134126376812\n",
      "1월 : 174.48183041722746\n",
      "2월 : 183.9047619047619\n",
      "3월 : 191.54365835579515\n",
      "4월 : 196.8791650997151\n",
      "5월 : 214.7746031746032\n",
      "6월 : 249.5263888888889\n",
      "7월 : 232.46639784946237\n",
      "8월 : 224.65860215053763\n",
      "9월 : 214.69722222222222\n",
      "10월 : 203.9247311827957\n",
      "11월 : 212.94722222222222\n",
      "12월 : 207.97177419354838\n",
      "\n",
      "2018 년\n",
      "2018년 평균 235.78471590987076\n",
      "1월 : 209.1978465679677\n",
      "2월 : 211.89583666169895\n",
      "3월 : 217.53711201079622\n",
      "4월 : 222.56666666666666\n",
      "5월 : 225.70456805929922\n",
      "6월 : 246.93802816901407\n",
      "7월 : 278.26210336021506\n",
      "8월 : 289.48924731182797\n",
      "9월 : 230.8736111111111\n",
      "10월 : 229.67741935483872\n",
      "11월 : 235.04843111111114\n",
      "12월 : 229.6465053763441\n",
      "\n",
      "2019 년\n",
      "2019년 평균 247.9832764934323\n",
      "1월 : 229.349932705249\n",
      "2월 : 228.05295491071428\n",
      "3월 : 237.95430107526883\n",
      "4월 : 243.63472222222222\n",
      "5월 : 253.51478494623655\n",
      "6월 : 256.230876216968\n",
      "7월 : 266.5255376344086\n",
      "8월 : 265.4986559139785\n",
      "9월 : 248.22916666666666\n",
      "10월 : 245.38844086021504\n",
      "11월 : 248.80833333333334\n",
      "12월 : 250.84075573549256\n",
      "\n",
      "2020 년\n",
      "2020년 평균 254.58975849271403\n",
      "1월 : 231.78687983870967\n",
      "2월 : 244.35919540229884\n",
      "3월 : 241.72177419354838\n",
      "4월 : 245.95138888888889\n",
      "5월 : 253.36290322580646\n",
      "6월 : 278.14722222222224\n",
      "7월 : 261.98118279569894\n",
      "8월 : 269.81317204301075\n",
      "9월 : 262.7611111111111\n",
      "10월 : 256.7903225806452\n",
      "11월 : 256.6875\n",
      "12월 : 251.86693548387098\n",
      "\n",
      "2021 년\n",
      "2021년 평균 260.5750920099727\n",
      "1월 : 251.08467741935485\n",
      "2월 : 246.80505952380952\n",
      "3월 : 253.04441453566622\n",
      "4월 : 259.46527777777777\n",
      "5월 : 253.40725806451613\n",
      "6월 : 270.1166666666667\n",
      "7월 : 279.5430107526882\n",
      "8월 : 275.56317204301075\n",
      "9월 : 260.9291666666667\n",
      "10월 : 257.9045698924731\n",
      "11월 : 258.50416666666666\n",
      "12월 : 258.44607843137254\n",
      "\n"
     ]
    }
   ],
   "source": [
    "years,monthHistory = data_als.dataMean(df,2017,2021)"
   ]
  },
  {
   "cell_type": "code",
   "execution_count": 25,
   "metadata": {},
   "outputs": [
    {
     "data": {
      "text/plain": [
       "[[174.48183041722746,\n",
       "  183.9047619047619,\n",
       "  191.54365835579515,\n",
       "  196.8791650997151,\n",
       "  214.7746031746032,\n",
       "  249.5263888888889,\n",
       "  232.46639784946237,\n",
       "  224.65860215053763,\n",
       "  214.69722222222222,\n",
       "  203.9247311827957,\n",
       "  212.94722222222222,\n",
       "  207.97177419354838],\n",
       " [209.1978465679677,\n",
       "  211.89583666169895,\n",
       "  217.53711201079622,\n",
       "  222.56666666666666,\n",
       "  225.70456805929922,\n",
       "  246.93802816901407,\n",
       "  278.26210336021506,\n",
       "  289.48924731182797,\n",
       "  230.8736111111111,\n",
       "  229.67741935483872,\n",
       "  235.04843111111114,\n",
       "  229.6465053763441],\n",
       " [229.349932705249,\n",
       "  228.05295491071428,\n",
       "  237.95430107526883,\n",
       "  243.63472222222222,\n",
       "  253.51478494623655,\n",
       "  256.230876216968,\n",
       "  266.5255376344086,\n",
       "  265.4986559139785,\n",
       "  248.22916666666666,\n",
       "  245.38844086021504,\n",
       "  248.80833333333334,\n",
       "  250.84075573549256],\n",
       " [231.78687983870967,\n",
       "  244.35919540229884,\n",
       "  241.72177419354838,\n",
       "  245.95138888888889,\n",
       "  253.36290322580646,\n",
       "  278.14722222222224,\n",
       "  261.98118279569894,\n",
       "  269.81317204301075,\n",
       "  262.7611111111111,\n",
       "  256.7903225806452,\n",
       "  256.6875,\n",
       "  251.86693548387098],\n",
       " [251.08467741935485,\n",
       "  246.80505952380952,\n",
       "  253.04441453566622,\n",
       "  259.46527777777777,\n",
       "  253.40725806451613,\n",
       "  270.1166666666667,\n",
       "  279.5430107526882,\n",
       "  275.56317204301075,\n",
       "  260.9291666666667,\n",
       "  257.9045698924731,\n",
       "  258.50416666666666,\n",
       "  258.44607843137254]]"
      ]
     },
     "execution_count": 25,
     "metadata": {},
     "output_type": "execute_result"
    }
   ],
   "source": [
    "monthHistory"
   ]
  },
  {
   "cell_type": "code",
   "execution_count": 26,
   "metadata": {},
   "outputs": [
    {
     "data": {
      "image/png": "[encoded data removed]",
      "text/plain": [
       "<Figure size 432x288 with 1 Axes>"
      ]
     },
     "metadata": {
      "needs_background": "light"
     },
     "output_type": "display_data"
    }
   ],
   "source": [
    "data_als.showMonthHistoryGrap(years,monthHistory)"
   ]
  },
  {
   "cell_type": "code",
   "execution_count": null,
   "metadata": {},
   "outputs": [],
   "source": []
  },
  {
   "cell_type": "code",
   "execution_count": null,
   "metadata": {},
   "outputs": [],
   "source": []
  },
  {
   "cell_type": "code",
   "execution_count": null,
   "metadata": {},
   "outputs": [],
   "source": []
  },
  {
   "cell_type": "code",
   "execution_count": null,
   "metadata": {},
   "outputs": [],
   "source": []
  }
 ],
 "metadata": {
  "kernelspec": {
   "display_name": "Python 3",
   "language": "python",
   "name": "python3"
  },
  "language_info": {
   "codemirror_mode": {
    "name": "ipython",
    "version": 3
   },
   "file_extension": ".py",
   "mimetype": "text/x-python",
   "name": "python",
   "nbconvert_exporter": "python",
   "pygments_lexer": "ipython3",
   "version": "3.10.6"
  },
  "orig_nbformat": 4
 },
 "nbformat": 4,
 "nbformat_minor": 2
}
