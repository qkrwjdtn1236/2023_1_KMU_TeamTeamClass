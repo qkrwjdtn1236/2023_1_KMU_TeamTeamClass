{
 "cells": [
  {
   "cell_type": "code",
   "execution_count": 124,
   "metadata": {},
   "outputs": [],
   "source": [
    "import pandas as pd\n",
    "import numpy as np"
   ]
  },
  {
   "cell_type": "code",
   "execution_count": 125,
   "metadata": {},
   "outputs": [],
   "source": [
    "df = pd.read_csv('datasets/data_tr_city.csv')"
   ]
  },
  {
   "cell_type": "code",
   "execution_count": 126,
   "metadata": {},
   "outputs": [
    {
     "data": {
      "text/html": [
       "<div>\n",
       "<style scoped>\n",
       "    .dataframe tbody tr th:only-of-type {\n",
       "        vertical-align: middle;\n",
       "    }\n",
       "\n",
       "    .dataframe tbody tr th {\n",
       "        vertical-align: top;\n",
       "    }\n",
       "\n",
       "    .dataframe thead th {\n",
       "        text-align: right;\n",
       "    }\n",
       "</style>\n",
       "<table border=\"1\" class=\"dataframe\">\n",
       "  <thead>\n",
       "    <tr style=\"text-align: right;\">\n",
       "      <th></th>\n",
       "      <th>datetime</th>\n",
       "      <th>구미 혁신도시배수지 유출유량 적산차</th>\n",
       "    </tr>\n",
       "  </thead>\n",
       "  <tbody>\n",
       "    <tr>\n",
       "      <th>0</th>\n",
       "      <td>2017-01-01 01:00:00</td>\n",
       "      <td>138.0</td>\n",
       "    </tr>\n",
       "    <tr>\n",
       "      <th>1</th>\n",
       "      <td>2017-01-01 02:00:00</td>\n",
       "      <td>237.0</td>\n",
       "    </tr>\n",
       "    <tr>\n",
       "      <th>2</th>\n",
       "      <td>2017-01-01 03:00:00</td>\n",
       "      <td>128.0</td>\n",
       "    </tr>\n",
       "    <tr>\n",
       "      <th>3</th>\n",
       "      <td>2017-01-01 04:00:00</td>\n",
       "      <td>14.0</td>\n",
       "    </tr>\n",
       "    <tr>\n",
       "      <th>4</th>\n",
       "      <td>2017-01-01 05:00:00</td>\n",
       "      <td>11.0</td>\n",
       "    </tr>\n",
       "    <tr>\n",
       "      <th>...</th>\n",
       "      <td>...</td>\n",
       "      <td>...</td>\n",
       "    </tr>\n",
       "    <tr>\n",
       "      <th>35058</th>\n",
       "      <td>2020-12-31 19:00:00</td>\n",
       "      <td>328.0</td>\n",
       "    </tr>\n",
       "    <tr>\n",
       "      <th>35059</th>\n",
       "      <td>2020-12-31 20:00:00</td>\n",
       "      <td>347.0</td>\n",
       "    </tr>\n",
       "    <tr>\n",
       "      <th>35060</th>\n",
       "      <td>2020-12-31 21:00:00</td>\n",
       "      <td>335.0</td>\n",
       "    </tr>\n",
       "    <tr>\n",
       "      <th>35061</th>\n",
       "      <td>2020-12-31 22:00:00</td>\n",
       "      <td>141.0</td>\n",
       "    </tr>\n",
       "    <tr>\n",
       "      <th>35062</th>\n",
       "      <td>2020-12-31 23:00:00</td>\n",
       "      <td>112.0</td>\n",
       "    </tr>\n",
       "  </tbody>\n",
       "</table>\n",
       "<p>35063 rows × 2 columns</p>\n",
       "</div>"
      ],
      "text/plain": [
       "                  datetime  구미 혁신도시배수지 유출유량 적산차\n",
       "0      2017-01-01 01:00:00                138.0\n",
       "1      2017-01-01 02:00:00                237.0\n",
       "2      2017-01-01 03:00:00                128.0\n",
       "3      2017-01-01 04:00:00                 14.0\n",
       "4      2017-01-01 05:00:00                 11.0\n",
       "...                    ...                  ...\n",
       "35058  2020-12-31 19:00:00                328.0\n",
       "35059  2020-12-31 20:00:00                347.0\n",
       "35060  2020-12-31 21:00:00                335.0\n",
       "35061  2020-12-31 22:00:00                141.0\n",
       "35062  2020-12-31 23:00:00                112.0\n",
       "\n",
       "[35063 rows x 2 columns]"
      ]
     },
     "execution_count": 126,
     "metadata": {},
     "output_type": "execute_result"
    }
   ],
   "source": [
    "df"
   ]
  },
  {
   "cell_type": "code",
   "execution_count": 127,
   "metadata": {},
   "outputs": [],
   "source": [
    "X = df[['구미 혁신도시배수지 유출유량 적산차']].to_numpy()"
   ]
  },
  {
   "cell_type": "code",
   "execution_count": 128,
   "metadata": {},
   "outputs": [],
   "source": [
    "years = [2017,2018,2019,2020]"
   ]
  },
  {
   "cell_type": "code",
   "execution_count": 129,
   "metadata": {},
   "outputs": [
    {
     "data": {
      "text/html": [
       "<div>\n",
       "<style scoped>\n",
       "    .dataframe tbody tr th:only-of-type {\n",
       "        vertical-align: middle;\n",
       "    }\n",
       "\n",
       "    .dataframe tbody tr th {\n",
       "        vertical-align: top;\n",
       "    }\n",
       "\n",
       "    .dataframe thead th {\n",
       "        text-align: right;\n",
       "    }\n",
       "</style>\n",
       "<table border=\"1\" class=\"dataframe\">\n",
       "  <thead>\n",
       "    <tr style=\"text-align: right;\">\n",
       "      <th></th>\n",
       "      <th>datetime</th>\n",
       "      <th>구미 혁신도시배수지 유출유량 적산차</th>\n",
       "    </tr>\n",
       "  </thead>\n",
       "  <tbody>\n",
       "    <tr>\n",
       "      <th>0</th>\n",
       "      <td>2017-01-01 01:00:00</td>\n",
       "      <td>138.0</td>\n",
       "    </tr>\n",
       "    <tr>\n",
       "      <th>1</th>\n",
       "      <td>2017-01-01 02:00:00</td>\n",
       "      <td>237.0</td>\n",
       "    </tr>\n",
       "    <tr>\n",
       "      <th>2</th>\n",
       "      <td>2017-01-01 03:00:00</td>\n",
       "      <td>128.0</td>\n",
       "    </tr>\n",
       "    <tr>\n",
       "      <th>3</th>\n",
       "      <td>2017-01-01 04:00:00</td>\n",
       "      <td>14.0</td>\n",
       "    </tr>\n",
       "    <tr>\n",
       "      <th>4</th>\n",
       "      <td>2017-01-01 05:00:00</td>\n",
       "      <td>11.0</td>\n",
       "    </tr>\n",
       "    <tr>\n",
       "      <th>...</th>\n",
       "      <td>...</td>\n",
       "      <td>...</td>\n",
       "    </tr>\n",
       "    <tr>\n",
       "      <th>35058</th>\n",
       "      <td>2020-12-31 19:00:00</td>\n",
       "      <td>328.0</td>\n",
       "    </tr>\n",
       "    <tr>\n",
       "      <th>35059</th>\n",
       "      <td>2020-12-31 20:00:00</td>\n",
       "      <td>347.0</td>\n",
       "    </tr>\n",
       "    <tr>\n",
       "      <th>35060</th>\n",
       "      <td>2020-12-31 21:00:00</td>\n",
       "      <td>335.0</td>\n",
       "    </tr>\n",
       "    <tr>\n",
       "      <th>35061</th>\n",
       "      <td>2020-12-31 22:00:00</td>\n",
       "      <td>141.0</td>\n",
       "    </tr>\n",
       "    <tr>\n",
       "      <th>35062</th>\n",
       "      <td>2020-12-31 23:00:00</td>\n",
       "      <td>112.0</td>\n",
       "    </tr>\n",
       "  </tbody>\n",
       "</table>\n",
       "<p>35063 rows × 2 columns</p>\n",
       "</div>"
      ],
      "text/plain": [
       "                  datetime  구미 혁신도시배수지 유출유량 적산차\n",
       "0      2017-01-01 01:00:00                138.0\n",
       "1      2017-01-01 02:00:00                237.0\n",
       "2      2017-01-01 03:00:00                128.0\n",
       "3      2017-01-01 04:00:00                 14.0\n",
       "4      2017-01-01 05:00:00                 11.0\n",
       "...                    ...                  ...\n",
       "35058  2020-12-31 19:00:00                328.0\n",
       "35059  2020-12-31 20:00:00                347.0\n",
       "35060  2020-12-31 21:00:00                335.0\n",
       "35061  2020-12-31 22:00:00                141.0\n",
       "35062  2020-12-31 23:00:00                112.0\n",
       "\n",
       "[35063 rows x 2 columns]"
      ]
     },
     "execution_count": 129,
     "metadata": {},
     "output_type": "execute_result"
    }
   ],
   "source": [
    "df"
   ]
  },
  {
   "cell_type": "code",
   "execution_count": 130,
   "metadata": {},
   "outputs": [
    {
     "data": {
      "text/plain": [
       "Index(['datetime', '구미 혁신도시배수지 유출유량 적산차'], dtype='object')"
      ]
     },
     "execution_count": 130,
     "metadata": {},
     "output_type": "execute_result"
    }
   ],
   "source": [
    "df.columns"
   ]
  },
  {
   "cell_type": "code",
   "execution_count": 131,
   "metadata": {},
   "outputs": [],
   "source": [
    "df['datetime'] = pd.to_datetime(df['datetime'])"
   ]
  },
  {
   "cell_type": "code",
   "execution_count": 132,
   "metadata": {},
   "outputs": [
    {
     "name": "stdout",
     "output_type": "stream",
     "text": [
      "<class 'pandas.core.frame.DataFrame'>\n",
      "RangeIndex: 35063 entries, 0 to 35062\n",
      "Data columns (total 2 columns):\n",
      " #   Column               Non-Null Count  Dtype         \n",
      "---  ------               --------------  -----         \n",
      " 0   datetime             35063 non-null  datetime64[ns]\n",
      " 1   구미 혁신도시배수지 유출유량 적산차  35055 non-null  float64       \n",
      "dtypes: datetime64[ns](1), float64(1)\n",
      "memory usage: 548.0 KB\n"
     ]
    }
   ],
   "source": [
    "df.info()"
   ]
  },
  {
   "cell_type": "code",
   "execution_count": 133,
   "metadata": {},
   "outputs": [],
   "source": [
    "df['year'] = pd.DatetimeIndex(df['datetime']).year\n",
    "df['month'] = pd.DatetimeIndex(df['datetime']).month"
   ]
  },
  {
   "cell_type": "code",
   "execution_count": 134,
   "metadata": {},
   "outputs": [
    {
     "data": {
      "text/html": [
       "<div>\n",
       "<style scoped>\n",
       "    .dataframe tbody tr th:only-of-type {\n",
       "        vertical-align: middle;\n",
       "    }\n",
       "\n",
       "    .dataframe tbody tr th {\n",
       "        vertical-align: top;\n",
       "    }\n",
       "\n",
       "    .dataframe thead th {\n",
       "        text-align: right;\n",
       "    }\n",
       "</style>\n",
       "<table border=\"1\" class=\"dataframe\">\n",
       "  <thead>\n",
       "    <tr style=\"text-align: right;\">\n",
       "      <th></th>\n",
       "      <th>datetime</th>\n",
       "      <th>구미 혁신도시배수지 유출유량 적산차</th>\n",
       "      <th>year</th>\n",
       "      <th>month</th>\n",
       "    </tr>\n",
       "  </thead>\n",
       "  <tbody>\n",
       "    <tr>\n",
       "      <th>0</th>\n",
       "      <td>2017-01-01 01:00:00</td>\n",
       "      <td>138.0</td>\n",
       "      <td>2017</td>\n",
       "      <td>1</td>\n",
       "    </tr>\n",
       "    <tr>\n",
       "      <th>1</th>\n",
       "      <td>2017-01-01 02:00:00</td>\n",
       "      <td>237.0</td>\n",
       "      <td>2017</td>\n",
       "      <td>1</td>\n",
       "    </tr>\n",
       "    <tr>\n",
       "      <th>2</th>\n",
       "      <td>2017-01-01 03:00:00</td>\n",
       "      <td>128.0</td>\n",
       "      <td>2017</td>\n",
       "      <td>1</td>\n",
       "    </tr>\n",
       "    <tr>\n",
       "      <th>3</th>\n",
       "      <td>2017-01-01 04:00:00</td>\n",
       "      <td>14.0</td>\n",
       "      <td>2017</td>\n",
       "      <td>1</td>\n",
       "    </tr>\n",
       "    <tr>\n",
       "      <th>4</th>\n",
       "      <td>2017-01-01 05:00:00</td>\n",
       "      <td>11.0</td>\n",
       "      <td>2017</td>\n",
       "      <td>1</td>\n",
       "    </tr>\n",
       "    <tr>\n",
       "      <th>...</th>\n",
       "      <td>...</td>\n",
       "      <td>...</td>\n",
       "      <td>...</td>\n",
       "      <td>...</td>\n",
       "    </tr>\n",
       "    <tr>\n",
       "      <th>35058</th>\n",
       "      <td>2020-12-31 19:00:00</td>\n",
       "      <td>328.0</td>\n",
       "      <td>2020</td>\n",
       "      <td>12</td>\n",
       "    </tr>\n",
       "    <tr>\n",
       "      <th>35059</th>\n",
       "      <td>2020-12-31 20:00:00</td>\n",
       "      <td>347.0</td>\n",
       "      <td>2020</td>\n",
       "      <td>12</td>\n",
       "    </tr>\n",
       "    <tr>\n",
       "      <th>35060</th>\n",
       "      <td>2020-12-31 21:00:00</td>\n",
       "      <td>335.0</td>\n",
       "      <td>2020</td>\n",
       "      <td>12</td>\n",
       "    </tr>\n",
       "    <tr>\n",
       "      <th>35061</th>\n",
       "      <td>2020-12-31 22:00:00</td>\n",
       "      <td>141.0</td>\n",
       "      <td>2020</td>\n",
       "      <td>12</td>\n",
       "    </tr>\n",
       "    <tr>\n",
       "      <th>35062</th>\n",
       "      <td>2020-12-31 23:00:00</td>\n",
       "      <td>112.0</td>\n",
       "      <td>2020</td>\n",
       "      <td>12</td>\n",
       "    </tr>\n",
       "  </tbody>\n",
       "</table>\n",
       "<p>35063 rows × 4 columns</p>\n",
       "</div>"
      ],
      "text/plain": [
       "                 datetime  구미 혁신도시배수지 유출유량 적산차  year  month\n",
       "0     2017-01-01 01:00:00                138.0  2017      1\n",
       "1     2017-01-01 02:00:00                237.0  2017      1\n",
       "2     2017-01-01 03:00:00                128.0  2017      1\n",
       "3     2017-01-01 04:00:00                 14.0  2017      1\n",
       "4     2017-01-01 05:00:00                 11.0  2017      1\n",
       "...                   ...                  ...   ...    ...\n",
       "35058 2020-12-31 19:00:00                328.0  2020     12\n",
       "35059 2020-12-31 20:00:00                347.0  2020     12\n",
       "35060 2020-12-31 21:00:00                335.0  2020     12\n",
       "35061 2020-12-31 22:00:00                141.0  2020     12\n",
       "35062 2020-12-31 23:00:00                112.0  2020     12\n",
       "\n",
       "[35063 rows x 4 columns]"
      ]
     },
     "execution_count": 134,
     "metadata": {},
     "output_type": "execute_result"
    }
   ],
   "source": [
    "df"
   ]
  },
  {
   "cell_type": "code",
   "execution_count": 135,
   "metadata": {},
   "outputs": [
    {
     "name": "stdout",
     "output_type": "stream",
     "text": [
      "<class 'pandas.core.frame.DataFrame'>\n",
      "RangeIndex: 35063 entries, 0 to 35062\n",
      "Data columns (total 4 columns):\n",
      " #   Column               Non-Null Count  Dtype         \n",
      "---  ------               --------------  -----         \n",
      " 0   datetime             35063 non-null  datetime64[ns]\n",
      " 1   구미 혁신도시배수지 유출유량 적산차  35055 non-null  float64       \n",
      " 2   year                 35063 non-null  int64         \n",
      " 3   month                35063 non-null  int64         \n",
      "dtypes: datetime64[ns](1), float64(1), int64(2)\n",
      "memory usage: 1.1 MB\n"
     ]
    }
   ],
   "source": [
    "df.info()"
   ]
  },
  {
   "attachments": {},
   "cell_type": "markdown",
   "metadata": {},
   "source": [
    "데이터 전처리"
   ]
  },
  {
   "cell_type": "code",
   "execution_count": 136,
   "metadata": {},
   "outputs": [],
   "source": [
    "df = df.dropna()"
   ]
  },
  {
   "cell_type": "code",
   "execution_count": 137,
   "metadata": {},
   "outputs": [
    {
     "data": {
      "text/plain": [
       "count    3.505500e+04\n",
       "mean     1.236927e+02\n",
       "std      4.342471e+04\n",
       "min     -6.093821e+06\n",
       "25%      1.030000e+02\n",
       "50%      2.170000e+02\n",
       "75%      3.460000e+02\n",
       "max      4.720655e+06\n",
       "Name: 구미 혁신도시배수지 유출유량 적산차, dtype: float64"
      ]
     },
     "execution_count": 137,
     "metadata": {},
     "output_type": "execute_result"
    }
   ],
   "source": [
    "df['구미 혁신도시배수지 유출유량 적산차'].describe()"
   ]
  },
  {
   "cell_type": "code",
   "execution_count": 138,
   "metadata": {},
   "outputs": [],
   "source": [
    "q1=df['구미 혁신도시배수지 유출유량 적산차'].quantile(0.25)\n",
    "q2=df['구미 혁신도시배수지 유출유량 적산차'].quantile(0.5)\n",
    "q3=df['구미 혁신도시배수지 유출유량 적산차'].quantile(0.75)"
   ]
  },
  {
   "cell_type": "code",
   "execution_count": 139,
   "metadata": {},
   "outputs": [],
   "source": [
    "iqr = q3-q1"
   ]
  },
  {
   "cell_type": "code",
   "execution_count": 140,
   "metadata": {},
   "outputs": [
    {
     "data": {
      "text/plain": [
       "1075.0"
      ]
     },
     "execution_count": 140,
     "metadata": {},
     "output_type": "execute_result"
    }
   ],
   "source": [
    "q3+3.0*iqr"
   ]
  },
  {
   "cell_type": "code",
   "execution_count": 141,
   "metadata": {},
   "outputs": [],
   "source": [
    "remove = df['구미 혁신도시배수지 유출유량 적산차']>q3+1.5*iqr"
   ]
  },
  {
   "cell_type": "code",
   "execution_count": 142,
   "metadata": {},
   "outputs": [],
   "source": [
    "removedata = df[remove].index"
   ]
  },
  {
   "cell_type": "code",
   "execution_count": 143,
   "metadata": {},
   "outputs": [
    {
     "data": {
      "text/plain": [
       "Int64Index([ 1784,  2846,  2866,  3224,  3431,  3468,  3485,  3491,  3513,\n",
       "             3533,\n",
       "            ...\n",
       "            33187, 33309, 33427, 33594, 33861, 33883, 34316, 34484, 34556,\n",
       "            34790],\n",
       "           dtype='int64', length=140)"
      ]
     },
     "execution_count": 143,
     "metadata": {},
     "output_type": "execute_result"
    }
   ],
   "source": [
    "removedata"
   ]
  },
  {
   "cell_type": "code",
   "execution_count": 144,
   "metadata": {},
   "outputs": [
    {
     "name": "stderr",
     "output_type": "stream",
     "text": [
      "C:\\Users\\ParkJeongSu\\AppData\\Local\\Temp\\ipykernel_5884\\2046731219.py:1: SettingWithCopyWarning: \n",
      "A value is trying to be set on a copy of a slice from a DataFrame\n",
      "\n",
      "See the caveats in the documentation: https://pandas.pydata.org/pandas-docs/stable/user_guide/indexing.html#returning-a-view-versus-a-copy\n",
      "  df.drop(removedata,inplace=True)\n"
     ]
    }
   ],
   "source": [
    "df.drop(removedata,inplace=True)"
   ]
  },
  {
   "cell_type": "code",
   "execution_count": 146,
   "metadata": {},
   "outputs": [
    {
     "name": "stderr",
     "output_type": "stream",
     "text": [
      "C:\\Users\\ParkJeongSu\\AppData\\Local\\Temp\\ipykernel_5884\\649486699.py:1: SettingWithCopyWarning: \n",
      "A value is trying to be set on a copy of a slice from a DataFrame.\n",
      "Try using .loc[row_indexer,col_indexer] = value instead\n",
      "\n",
      "See the caveats in the documentation: https://pandas.pydata.org/pandas-docs/stable/user_guide/indexing.html#returning-a-view-versus-a-copy\n",
      "  df[df['구미 혁신도시배수지 유출유량 적산차']<0] = 0\n"
     ]
    }
   ],
   "source": [
    "df[df['구미 혁신도시배수지 유출유량 적산차']<0] = 0"
   ]
  },
  {
   "cell_type": "code",
   "execution_count": 151,
   "metadata": {},
   "outputs": [
    {
     "name": "stdout",
     "output_type": "stream",
     "text": [
      "2017 년\n",
      "2017년 평균 205.08503989922124\n",
      "1월 : 174.48183041722746\n",
      "2월 : 183.9047619047619\n",
      "3월 : 190.05864121621622\n",
      "4월 : 190.0935569637883\n",
      "5월 : 181.02735978112176\n",
      "6월 : 249.5263888888889\n",
      "7월 : 230.4655870445344\n",
      "8월 : 223.91386271870795\n",
      "9월 : 211.65083798882682\n",
      "10월 : 203.9247311827957\n",
      "11월 : 212.94722222222222\n",
      "12월 : 207.97177419354838\n",
      "\n",
      "2018 년\n",
      "2018년 평균 233.67706785837058\n",
      "1월 : 208.91666666666666\n",
      "2월 : 210.82579195230997\n",
      "3월 : 214.733153638814\n",
      "4월 : 221.12395543175487\n",
      "5월 : 225.40079340511443\n",
      "6월 : 242.13146853146853\n",
      "7월 : 273.3673536054422\n",
      "8월 : 284.99050203527815\n",
      "9월 : 228.66806136680614\n",
      "10월 : 228.32479784366578\n",
      "11월 : 235.04843111111114\n",
      "12월 : 228.98519515477793\n",
      "\n",
      "2019 년\n",
      "2019년 평균 246.26653519303468\n",
      "1월 : 229.349932705249\n",
      "2월 : 227.28403233979134\n",
      "3월 : 237.26110363391655\n",
      "4월 : 242.89568845618916\n",
      "5월 : 251.47503373819163\n",
      "6월 : 253.7810320781032\n",
      "7월 : 264.7044534412955\n",
      "8월 : 264.70121130551814\n",
      "9월 : 244.4013986013986\n",
      "10월 : 242.6972972972973\n",
      "11월 : 247.28969359331475\n",
      "12월 : 247.6951219512195\n",
      "\n",
      "2020 년\n",
      "2020년 평균 251.163832504298\n",
      "1월 : 231.08538169582772\n",
      "2월 : 240.2380261248186\n",
      "3월 : 236.64314789687924\n",
      "4월 : 243.76847977684798\n",
      "5월 : 249.07181571815718\n",
      "6월 : 276.08228730822873\n",
      "7월 : 258.43166441136674\n",
      "8월 : 263.5904761904762\n",
      "9월 : 256.8469101123595\n",
      "10월 : 254.0837837837838\n",
      "11월 : 254.48117154811715\n",
      "12월 : 249.8650472334683\n",
      "\n"
     ]
    }
   ],
   "source": [
    "historymonth = []\n",
    "for i in years:\n",
    "    print(i,'년')\n",
    "    dummy = df[df['year'] == i]\n",
    "    print(f'{i}년 평균',np.mean(dummy[['구미 혁신도시배수지 유출유량 적산차']].to_numpy()))\n",
    "\n",
    "    for j in range(1,13):\n",
    "        filter = dummy[dummy['month'] == j]\n",
    "        monthAvg = np.mean(filter[['구미 혁신도시배수지 유출유량 적산차']].to_numpy())\n",
    "        print(f'{j}월 :',monthAvg)\n",
    "        historymonth.append(monthAvg)\n",
    "        str(years)\n",
    "    print()\n",
    "    "
   ]
  },
  {
   "cell_type": "code",
   "execution_count": 152,
   "metadata": {},
   "outputs": [],
   "source": [
    "import matplotlib.pyplot as plt"
   ]
  },
  {
   "cell_type": "code",
   "execution_count": 157,
   "metadata": {},
   "outputs": [],
   "source": [
    "water2017 = historymonth[:12]\n",
    "water2018 = historymonth[12:24]\n",
    "water2019 = historymonth[24:36]\n",
    "water2020 = historymonth[36:]"
   ]
  },
  {
   "cell_type": "code",
   "execution_count": 158,
   "metadata": {},
   "outputs": [
    {
     "data": {
      "text/plain": [
       "(12, 12, 12, 12)"
      ]
     },
     "execution_count": 158,
     "metadata": {},
     "output_type": "execute_result"
    }
   ],
   "source": [
    "len(water2017),len(water2018),len(water2019),len(water2020)"
   ]
  },
  {
   "cell_type": "code",
   "execution_count": 155,
   "metadata": {},
   "outputs": [
    {
     "data": {
      "text/plain": [
       "[<matplotlib.lines.Line2D at 0x2510cab3850>]"
      ]
     },
     "execution_count": 155,
     "metadata": {},
     "output_type": "execute_result"
    },
    {
     "data": {
      "image/png": "[encoded data removed]",
      "text/plain": [
       "<Figure size 432x288 with 1 Axes>"
      ]
     },
     "metadata": {
      "needs_background": "light"
     },
     "output_type": "display_data"
    }
   ],
   "source": [
    "plt.plot(range(len(historymonth)),historymonth)"
   ]
  },
  {
   "cell_type": "code",
   "execution_count": 161,
   "metadata": {},
   "outputs": [
    {
     "data": {
      "text/plain": [
       "<matplotlib.legend.Legend at 0x2510eb51f00>"
      ]
     },
     "execution_count": 161,
     "metadata": {},
     "output_type": "execute_result"
    },
    {
     "data": {
      "image/png": "[encoded data removed]",
      "text/plain": [
       "<Figure size 432x288 with 1 Axes>"
      ]
     },
     "metadata": {
      "needs_background": "light"
     },
     "output_type": "display_data"
    }
   ],
   "source": [
    "plt.plot(range(12),water2017,label='2017')\n",
    "plt.plot(range(12),water2018,label='2018')\n",
    "plt.plot(range(12),water2019,label='2019')\n",
    "plt.plot(range(12),water2020,label='2020')\n",
    "plt.legend()"
   ]
  },
  {
   "cell_type": "code",
   "execution_count": null,
   "metadata": {},
   "outputs": [],
   "source": []
  }
 ],
 "metadata": {
  "kernelspec": {
   "display_name": "Python 3",
   "language": "python",
   "name": "python3"
  },
  "language_info": {
   "codemirror_mode": {
    "name": "ipython",
    "version": 3
   },
   "file_extension": ".py",
   "mimetype": "text/x-python",
   "name": "python",
   "nbconvert_exporter": "python",
   "pygments_lexer": "ipython3",
   "version": "3.10.6"
  },
  "orig_nbformat": 4
 },
 "nbformat": 4,
 "nbformat_minor": 2
}
